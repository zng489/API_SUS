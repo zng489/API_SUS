{
 "cells": [
  {
   "cell_type": "code",
   "execution_count": 5,
   "metadata": {},
   "outputs": [
    {
     "name": "stderr",
     "output_type": "stream",
     "text": [
      "c:\\Users\\PC\\miniconda3\\envs\\ngrok_3_11\\Lib\\site-packages\\pydantic\\_internal\\_config.py:341: UserWarning: Valid config keys have changed in V2:\n",
      "* 'schema_extra' has been renamed to 'json_schema_extra'\n",
      "  warnings.warn(message, UserWarning)\n"
     ]
    }
   ],
   "source": [
    "from pydantic import BaseModel, Field, EmailStr\n",
    "\n",
    "class PostSchema(BaseModel):\n",
    "    id : int = Field(default=None)\n",
    "    title : str = Field(default=None)\n",
    "    content : str = Field(default=None)\n",
    "    class Config:\n",
    "        schema_extra = {\n",
    "            \"post_demo\" : {\n",
    "                \"title\":\"some title about animals\",\n",
    "                \"content\":\"some content about animals\",\n",
    "            }\n",
    "        }\n",
    "\n",
    "\n",
    "class UserSchema(BaseModel):\n",
    "    fullname : str = Field(default=None)\n",
    "    email : EmailStr = Field(default = None)\n",
    "    password : str = Field(default = None)\n",
    "    class Config:\n",
    "        the_schema = {\n",
    "            \"user_demo\" : {\n",
    "                \"name\" : \"Bek\",\n",
    "                \"email\" : \"help@bekbrace.com\",\n",
    "                \"password\" : \"123\"\n",
    "            }\n",
    "        }\n",
    "\n",
    "\n",
    "class UserLoginSchema(BaseModel):\n",
    "    email : EmailStr = Field(default = None)\n",
    "    password : str = Field(default = None)\n",
    "    class Config:\n",
    "        the_schema = {\n",
    "            \"user_demo\" : {\n",
    "                \"email\" : \"help@bekbrace.com\",\n",
    "                \"password\" : \"123\"\n",
    "            }\n",
    "        }"
   ]
  },
  {
   "cell_type": "code",
   "execution_count": 14,
   "metadata": {},
   "outputs": [
    {
     "name": "stdout",
     "output_type": "stream",
     "text": [
      "user1@example.com\n",
      "password1\n"
     ]
    }
   ],
   "source": [
    "# Example list of users\n",
    "users = [\n",
    "    {\"email\": \"user1@example.com\", \"password\": \"password1\"},\n",
    "    {\"email\": \"user2@example.com\", \"password\": \"password2\"}\n",
    "]\n",
    "\n",
    "# Example login data\n",
    "data = UserLoginSchema(email=\"user1@example.com\", password=\"password1\")\n",
    "print(data.email)\n",
    "print(data.password)"
   ]
  },
  {
   "cell_type": "code",
   "execution_count": 18,
   "metadata": {},
   "outputs": [
    {
     "name": "stdout",
     "output_type": "stream",
     "text": [
      "user1@example.com\n",
      "password1\n",
      "user2@example.com\n",
      "password2\n"
     ]
    }
   ],
   "source": [
    "# Example list of users\n",
    "users = [\n",
    "    {\"email\": \"user1@example.com\", \"password\": \"password1\"},\n",
    "    {\"email\": \"user2@example.com\", \"password\": \"password2\"}\n",
    "]\n",
    "\n",
    "for user in users:\n",
    "    print(user[\"email\"])\n",
    "    print(user[\"password\"])"
   ]
  },
  {
   "cell_type": "code",
   "execution_count": null,
   "metadata": {},
   "outputs": [],
   "source": [
    "def check_user(data: UserLoginSchema):\n",
    "    for user in users:\n",
    "        if user.email == data.email and user.password == data.password:\n",
    "            return True\n",
    "        return False"
   ]
  },
  {
   "cell_type": "code",
   "execution_count": 19,
   "metadata": {},
   "outputs": [],
   "source": [
    "###############################################################################################"
   ]
  },
  {
   "cell_type": "code",
   "execution_count": null,
   "metadata": {},
   "outputs": [],
   "source": [
    "class UserSchema(BaseModel):\n",
    "    fullname : str = Field(default=None)\n",
    "    email : EmailStr = Field(default = None)\n",
    "    password : str = Field(default = None)\n",
    "    class Config:\n",
    "        #the_schema \n",
    "        json_schema_extra = {\n",
    "            \"user_demo\" : {\n",
    "                \"name\" : \"Bek\",\n",
    "                \"email\" : \"help@bekbrace.com\",\n",
    "            }\n",
    "        }\n",
    "\n",
    "UserSchema => {\n",
    "    fullname = string,\n",
    "    email = string,\n",
    "    password = string\n",
    "}\n",
    "\n",
    "@app.post(\"/user/signup\", tags=[\"user\"])\n",
    "def user_signup(user : UserSchema = Body(default=None)):\n",
    "    users.append(user)\n",
    "    return signJWT(user.email)\n",
    "\n",
    "\n",
    "user => {\n",
    "    fullname = string,\n",
    "    email = string,\n",
    "    password = string\n",
    "}"
   ]
  },
  {
   "cell_type": "code",
   "execution_count": 20,
   "metadata": {},
   "outputs": [],
   "source": [
    "#################################################################################################"
   ]
  },
  {
   "cell_type": "code",
   "execution_count": 22,
   "metadata": {},
   "outputs": [
    {
     "name": "stdout",
     "output_type": "stream",
     "text": [
      "User added: UserSchema(email=user1@example.com, password=******)\n",
      "User added: UserSchema(email=user2@example.com, password=******)\n",
      "All users:\n",
      "UserSchema(email=user1@example.com, password=******)\n",
      "UserSchema(email=user2@example.com, password=******)\n",
      "[UserSchema(email=user1@example.com, password=******), UserSchema(email=user2@example.com, password=******)]\n"
     ]
    }
   ],
   "source": [
    "class UserSchema:\n",
    "    def __init__(self, email: str, password: str):\n",
    "        self.email = email\n",
    "        self.password = password\n",
    "\n",
    "    def __repr__(self):\n",
    "        return f\"UserSchema(email={self.email}, password=******)\"  # Mask password for security\n",
    "\n",
    "# In-memory list to store users\n",
    "users = []\n",
    "\n",
    "def add_user(email: str, password: str):\n",
    "    # Create a UserSchema instance\n",
    "    user = UserSchema(email, password)\n",
    "    # Add user to the in-memory list\n",
    "    users.append(user)\n",
    "    print(f\"User added: {user}\")\n",
    "\n",
    "# Example usage\n",
    "add_user(\"user1@example.com\", \"password123\")\n",
    "add_user(\"user2@example.com\", \"securepass456\")\n",
    "\n",
    "# Print all users\n",
    "print(\"All users:\")\n",
    "for user in users:\n",
    "    print(user)\n",
    "\n",
    "print(users)\n"
   ]
  },
  {
   "cell_type": "code",
   "execution_count": 7,
   "metadata": {},
   "outputs": [],
   "source": [
    "\n",
    "def functiont(x: PostSchema):\n",
    "    print(x)\n",
    "    return"
   ]
  },
  {
   "cell_type": "code",
   "execution_count": null,
   "metadata": {},
   "outputs": [],
   "source": [
    "PostSchema: This is a Pydantic model that defines the expected structure and types of the post data. Pydantic is used for data validation and serialization. PostSchema will typically define fields like title, content, and any other attributes that a post might have."
   ]
  },
  {
   "cell_type": "code",
   "execution_count": 10,
   "metadata": {},
   "outputs": [
    {
     "name": "stdout",
     "output_type": "stream",
     "text": [
      "title='My First Post' content='This is the content of the post.' author_id=1\n",
      "title='My First Post' content='This is the content of the post.' author_id=1\n"
     ]
    },
    {
     "data": {
      "text/plain": [
       "NoneType"
      ]
     },
     "execution_count": 10,
     "metadata": {},
     "output_type": "execute_result"
    }
   ],
   "source": [
    "from pydantic import BaseModel\n",
    "\n",
    "# Define the PostSchema class\n",
    "class PostSchema(BaseModel):\n",
    "    title: str\n",
    "    content: str\n",
    "    author_id: int\n",
    "\n",
    "# Define the function\n",
    "def functiont(x: PostSchema):\n",
    "    print(x)\n",
    "    return\n",
    "\n",
    "# Create an instance of PostSchema\n",
    "post_data = PostSchema(\n",
    "    title=\"My First Post\",\n",
    "    content=\"This is the content of the post.\",\n",
    "    author_id=1\n",
    ")\n",
    "\n",
    "# Call the function with the PostSchema instance\n",
    "functiont(post_data)\n",
    "\n",
    "type(functiont(post_data))"
   ]
  },
  {
   "cell_type": "markdown",
   "metadata": {},
   "source": [
    "### **dict"
   ]
  },
  {
   "cell_type": "code",
   "execution_count": 10,
   "metadata": {},
   "outputs": [
    {
     "name": "stdout",
     "output_type": "stream",
     "text": [
      "{'a', 'b'}\n"
     ]
    }
   ],
   "source": [
    "dict1 = {'a': 1, 'b': 2}\n",
    "data = {*dict1}\n",
    "print(data)"
   ]
  },
  {
   "cell_type": "code",
   "execution_count": 9,
   "metadata": {},
   "outputs": [
    {
     "name": "stdout",
     "output_type": "stream",
     "text": [
      "{'a': 1, 'b': 2}\n"
     ]
    }
   ],
   "source": [
    "dict1 = {'a': 1, 'b': 2}\n",
    "data = {**dict1}\n",
    "print(data)\n",
    "\n",
    "# PostSchema_Response(**jsonable_encoder(db_item))\n",
    "# id=3 title='qwe' content='qweqwe'"
   ]
  },
  {
   "cell_type": "code",
   "execution_count": 3,
   "metadata": {},
   "outputs": [
    {
     "name": "stdout",
     "output_type": "stream",
     "text": [
      "{'id': 1, 'name': 'John Doe', 'email': 'john.doe@example.com'}\n"
     ]
    }
   ],
   "source": [
    "from pydantic import BaseModel\n",
    "\n",
    "# Define a Pydantic model\n",
    "class User(BaseModel):\n",
    "    id: int\n",
    "    name: str\n",
    "    email: str\n",
    "\n",
    "# Create an instance of the model\n",
    "user_instance = User(id=1, name=\"John Doe\", email=\"john.doe@example.com\")\n",
    "\n",
    "# Convert the instance to a dictionary\n",
    "user_dict = user_instance.dict()\n",
    "\n",
    "print(user_dict)\n"
   ]
  },
  {
   "cell_type": "markdown",
   "metadata": {},
   "source": [
    "### SessionLocal, db: Session = next(get_db())"
   ]
  },
  {
   "cell_type": "code",
   "execution_count": 1,
   "metadata": {},
   "outputs": [
    {
     "name": "stdout",
     "output_type": "stream",
     "text": [
      "Created user with ID: 1 and email: john@example.com\n"
     ]
    },
    {
     "name": "stderr",
     "output_type": "stream",
     "text": [
      "C:\\Users\\PC\\AppData\\Local\\Temp\\ipykernel_21980\\2978995747.py:15: MovedIn20Warning: The ``declarative_base()`` function is now available as sqlalchemy.orm.declarative_base(). (deprecated since: 2.0) (Background on SQLAlchemy 2.0 at: https://sqlalche.me/e/b8d9)\n",
      "  Base = declarative_base()\n"
     ]
    }
   ],
   "source": [
    "from sqlalchemy import create_engine, Column, Integer, String\n",
    "from sqlalchemy.ext.declarative import declarative_base\n",
    "from sqlalchemy.orm import sessionmaker, Session\n",
    "\n",
    "# Define the database URL\n",
    "DATABASE_URL = \"sqlite:///./test.db\"\n",
    "\n",
    "# Create an engine\n",
    "engine = create_engine(DATABASE_URL, connect_args={\"check_same_thread\": False})\n",
    "\n",
    "# Create a SessionLocal class\n",
    "SessionLocal = sessionmaker(autocommit=False, autoflush=False, bind=engine)\n",
    "\n",
    "# Base class for models\n",
    "Base = declarative_base()\n",
    "\n",
    "# Define a sample model\n",
    "class User(Base):\n",
    "    __tablename__ = \"users\"\n",
    "\n",
    "    id = Column(Integer, primary_key=True, index=True)\n",
    "    name = Column(String, index=True)\n",
    "    email = Column(String, unique=True, index=True)\n",
    "\n",
    "# Create the tables in the database\n",
    "Base.metadata.create_all(bind=engine)\n",
    "\n",
    "# Function to get a database session\n",
    "def get_db():\n",
    "    db = SessionLocal()\n",
    "    try:\n",
    "        yield db\n",
    "    finally:\n",
    "        db.close()\n",
    "\n",
    "# Example usage\n",
    "def create_user(name: str, email: str):\n",
    "    # Get a new database session\n",
    "    db: Session = next(get_db())\n",
    "    \n",
    "    # Create a new User instance\n",
    "    new_user = User(name=name, email=email)\n",
    "    \n",
    "    # Add the user to the session and commit\n",
    "    db.add(new_user)\n",
    "    db.commit()\n",
    "    \n",
    "    # Optionally refresh the instance to get the updated state\n",
    "    db.refresh(new_user)\n",
    "    \n",
    "    return new_user\n",
    "\n",
    "# Create a new user\n",
    "if __name__ == \"__main__\":\n",
    "    user = create_user(name=\"John Doe\", email=\"john@example.com\")\n",
    "    print(f\"Created user with ID: {user.id} and email: {user.email}\")"
   ]
  },
  {
   "cell_type": "markdown",
   "metadata": {},
   "source": [
    "### Authentication through csv file"
   ]
  },
  {
   "cell_type": "code",
   "execution_count": 22,
   "metadata": {},
   "outputs": [],
   "source": [
    "import csv\n",
    "from typing import List\n",
    "from fastapi import FastAPI, Depends\n",
    "from pydantic import BaseModel\n",
    "from fastapi.encoders import jsonable_encoder\n",
    "\n",
    "app = FastAPI()\n",
    "\n",
    "# Define your Pydantic schemas\n",
    "class PostSchema(BaseModel):\n",
    "    title: str\n",
    "    content: str\n",
    "\n",
    "class PostSchema_Response(BaseModel):\n",
    "    id: int\n",
    "    title: str\n",
    "    content: str\n",
    "\n",
    "CSV_FILE_PATH = 'posts.csv'"
   ]
  },
  {
   "cell_type": "code",
   "execution_count": 23,
   "metadata": {},
   "outputs": [
    {
     "name": "stdout",
     "output_type": "stream",
     "text": [
      "[{'id': 1, 'title': 'Understanding Pydantic', 'content': 'Pydantic is a data validation and settings management library for Python.'}, {'id': 2, 'title': 'Working with FastAPI', 'content': 'FastAPI is a modern'}, {'id': 3, 'title': 'Getting Started with SQLAlchemy', 'content': 'SQLAlchemy is a SQL toolkit and Object-Relational Mapping (ORM) library for Python.'}]\n"
     ]
    }
   ],
   "source": [
    "posts = []\n",
    "with open(r\"C:\\Users\\PC\\Desktop\\python\\2_fast_api_db\\posts.csv\", mode='r', newline='') as file:\n",
    "    reader = csv.DictReader(file)\n",
    "    #print(reader)\n",
    "    for row in reader:\n",
    "        #print(row)\n",
    "        posts.append({\n",
    "            \"id\": int(row[\"id\"]),\n",
    "            \"title\": row[\"title\"],\n",
    "            \"content\": row[\"content\"]})\n",
    "    print(posts)"
   ]
  },
  {
   "cell_type": "code",
   "execution_count": 24,
   "metadata": {},
   "outputs": [],
   "source": [
    "with open(CSV_FILE_PATH, mode='w', newline='') as file:\n",
    "    writer = csv.DictWriter(file, fieldnames=[\"id\", \"title\", \"content\"])\n",
    "    writer.writeheader()\n",
    "    writer.writerows(posts)"
   ]
  },
  {
   "cell_type": "code",
   "execution_count": 19,
   "metadata": {},
   "outputs": [],
   "source": [
    "def read_csv():\n",
    "    posts = []\n",
    "    try:\n",
    "        with open(CSV_FILE_PATH, mode='r', newline='') as file:\n",
    "            reader = csv.DictReader(file)\n",
    "            for row in reader:\n",
    "                posts.append({\n",
    "                    \"id\": int(row[\"id\"]),\n",
    "                    \"title\": row[\"title\"],\n",
    "                    \"content\": row[\"content\"]\n",
    "                })\n",
    "    except FileNotFoundError:\n",
    "        # File doesn't exist yet, return empty list\n",
    "        return []\n",
    "    return posts"
   ]
  },
  {
   "cell_type": "code",
   "execution_count": null,
   "metadata": {},
   "outputs": [],
   "source": [
    "def write_csv(posts: List[dict]):\n",
    "    with open(CSV_FILE_PATH, mode='w', newline='') as file:\n",
    "        writer = csv.DictWriter(file, fieldnames=[\"id\", \"title\", \"content\"])\n",
    "        writer.writeheader()\n",
    "        writer.writerows(posts)"
   ]
  },
  {
   "cell_type": "code",
   "execution_count": null,
   "metadata": {},
   "outputs": [],
   "source": [
    "@app.post(\"/posts/\", response_model=PostSchema_Response)\n",
    "def create_post(post: PostSchema):\n",
    "    posts = read_csv()\n",
    "    \n",
    "    new_id = max([p[\"id\"] for p in posts], default=0) + 1\n",
    "    new_post = {\n",
    "        \"id\": new_id,\n",
    "        \"title\": post.title,\n",
    "        \"content\": post.content\n",
    "    }\n",
    "    \n",
    "    posts.append(new_post)\n",
    "    write_csv(posts)\n",
    "    \n",
    "    return PostSchema_Response(**new_post)"
   ]
  },
  {
   "cell_type": "markdown",
   "metadata": {},
   "source": [
    "### [p[\"id\"] for p in posts]"
   ]
  },
  {
   "cell_type": "code",
   "execution_count": 27,
   "metadata": {},
   "outputs": [],
   "source": [
    "posts = [\n",
    "    {\"id\": 1, \"title\": \"First Post\"},\n",
    "    {\"id\": 2, \"title\": \"Second Post\"},\n",
    "    {\"id\": 5, \"title\": \"Third Post\"},\n",
    "]\n",
    "\n",
    "posts = [\n",
    "    {\"id\": 1, \"title\": \"First Post\"},\n",
    "    {\"id\": 2, \"title\": \"Second Post\"},\n",
    "    {\"id\": 5, \"title\": \"Third Post\"},\n",
    "]"
   ]
  },
  {
   "cell_type": "code",
   "execution_count": 30,
   "metadata": {},
   "outputs": [
    {
     "name": "stdout",
     "output_type": "stream",
     "text": [
      "6\n"
     ]
    }
   ],
   "source": [
    "new_id = max([p[\"id\"] for p in posts], default=0) + 1\n",
    "print(new_id)  # Output will be 6"
   ]
  },
  {
   "cell_type": "code",
   "execution_count": 31,
   "metadata": {},
   "outputs": [
    {
     "name": "stdout",
     "output_type": "stream",
     "text": [
      "1\n",
      "2\n",
      "5\n"
     ]
    }
   ],
   "source": [
    "for p in posts:\n",
    "    print(p[\"id\"])"
   ]
  },
  {
   "cell_type": "markdown",
   "metadata": {},
   "source": [
    "### Testing from typing import List"
   ]
  },
  {
   "cell_type": "code",
   "execution_count": 32,
   "metadata": {},
   "outputs": [
    {
     "name": "stdout",
     "output_type": "stream",
     "text": [
      "Post ID: 1\n",
      "Title: Introduction to Python\n",
      "Content: Python is a versatile programming language......\n",
      "Author: Jane Doe\n",
      "Created At: 2024-09-11 10:30:00\n",
      "Updated At: 2024-09-11 10:30:00\n",
      "\n",
      "Post ID: 2\n",
      "Title: Getting Started with Pydantic\n",
      "Content: Pydantic is a data validation and settings managem...\n",
      "Author: John Smith\n",
      "Created At: 2024-09-12 14:15:00\n",
      "Updated At: 2024-09-12 14:15:00\n",
      "\n",
      "Post ID: 3\n",
      "Title: Understanding Type Annotations\n",
      "Content: Type annotations help with code readability and de...\n",
      "Author: Alice Johnson\n",
      "Created At: 2024-09-13 09:45:00\n",
      "Updated At: 2024-09-13 09:45:00\n",
      "\n"
     ]
    }
   ],
   "source": [
    "from typing import List\n",
    "from pydantic import BaseModel\n",
    "from datetime import datetime\n",
    "\n",
    "# Define the PostSchema_Response schema\n",
    "class PostSchema_Response(BaseModel):\n",
    "    id: int\n",
    "    title: str\n",
    "    content: str\n",
    "    author: str\n",
    "    created_at: datetime\n",
    "    updated_at: datetime\n",
    "\n",
    "# Example list of PostSchema_Response objects\n",
    "example_posts: List[PostSchema_Response] = [\n",
    "    PostSchema_Response(\n",
    "        id=1,\n",
    "        title=\"Introduction to Python\",\n",
    "        content=\"Python is a versatile programming language...\",\n",
    "        author=\"Jane Doe\",\n",
    "        created_at=datetime(2024, 9, 11, 10, 30, 0),\n",
    "        updated_at=datetime(2024, 9, 11, 10, 30, 0),\n",
    "    ),\n",
    "    PostSchema_Response(\n",
    "        id=2,\n",
    "        title=\"Getting Started with Pydantic\",\n",
    "        content=\"Pydantic is a data validation and settings management library...\",\n",
    "        author=\"John Smith\",\n",
    "        created_at=datetime(2024, 9, 12, 14, 15, 0),\n",
    "        updated_at=datetime(2024, 9, 12, 14, 15, 0),\n",
    "    ),\n",
    "    PostSchema_Response(\n",
    "        id=3,\n",
    "        title=\"Understanding Type Annotations\",\n",
    "        content=\"Type annotations help with code readability and debugging...\",\n",
    "        author=\"Alice Johnson\",\n",
    "        created_at=datetime(2024, 9, 13, 9, 45, 0),\n",
    "        updated_at=datetime(2024, 9, 13, 9, 45, 0),\n",
    "    ),\n",
    "]\n",
    "\n",
    "# Example usage\n",
    "for post in example_posts:\n",
    "    print(f\"Post ID: {post.id}\")\n",
    "    print(f\"Title: {post.title}\")\n",
    "    print(f\"Content: {post.content[:50]}...\")  # Print the first 50 characters of the content\n",
    "    print(f\"Author: {post.author}\")\n",
    "    print(f\"Created At: {post.created_at}\")\n",
    "    print(f\"Updated At: {post.updated_at}\")\n",
    "    print()\n"
   ]
  },
  {
   "cell_type": "code",
   "execution_count": 42,
   "metadata": {},
   "outputs": [
    {
     "data": {
      "text/plain": [
       "[PostSchema_Response(id=1, title='Introduction to Python', content='Python is a versatile programming language...', author='Jane Doe', created_at=datetime.datetime(2024, 9, 11, 10, 30), updated_at=datetime.datetime(2024, 9, 11, 10, 30)),\n",
       " PostSchema_Response(id=2, title='Getting Started with Pydantic', content='Pydantic is a data validation and settings management library...', author='John Smith', created_at=datetime.datetime(2024, 9, 12, 14, 15), updated_at=datetime.datetime(2024, 9, 12, 14, 15)),\n",
       " PostSchema_Response(id=3, title='Understanding Type Annotations', content='Type annotations help with code readability and debugging...', author='Alice Johnson', created_at=datetime.datetime(2024, 9, 13, 9, 45), updated_at=datetime.datetime(2024, 9, 13, 9, 45))]"
      ]
     },
     "execution_count": 42,
     "metadata": {},
     "output_type": "execute_result"
    }
   ],
   "source": [
    "example_posts"
   ]
  },
  {
   "cell_type": "code",
   "execution_count": 35,
   "metadata": {},
   "outputs": [
    {
     "name": "stdout",
     "output_type": "stream",
     "text": [
      "id=1 title='Introduction to Python' content='Python is a versatile programming language...' author='Jane Doe' created_at=datetime.datetime(2024, 9, 11, 10, 30) updated_at=datetime.datetime(2024, 9, 11, 10, 30)\n",
      "id=2 title='Getting Started with Pydantic' content='Pydantic is a data validation and settings management library...' author='John Smith' created_at=datetime.datetime(2024, 9, 12, 14, 15) updated_at=datetime.datetime(2024, 9, 12, 14, 15)\n",
      "id=3 title='Understanding Type Annotations' content='Type annotations help with code readability and debugging...' author='Alice Johnson' created_at=datetime.datetime(2024, 9, 13, 9, 45) updated_at=datetime.datetime(2024, 9, 13, 9, 45)\n"
     ]
    }
   ],
   "source": [
    "for x in example_posts:\n",
    "    print(x)"
   ]
  },
  {
   "cell_type": "code",
   "execution_count": 44,
   "metadata": {},
   "outputs": [
    {
     "data": {
      "text/plain": [
       "[PostSchema_Response(id=1, title='Introduction to Python', content='Python is a versatile programming language...', author='Jane Doe', created_at=datetime.datetime(2024, 9, 11, 10, 30), updated_at=datetime.datetime(2024, 9, 11, 10, 30)),\n",
       " PostSchema_Response(id=2, title='Getting Started with Pydantic', content='Pydantic is a data validation and settings management library...', author='John Smith', created_at=datetime.datetime(2024, 9, 12, 14, 15), updated_at=datetime.datetime(2024, 9, 12, 14, 15)),\n",
       " PostSchema_Response(id=3, title='Understanding Type Annotations', content='Type annotations help with code readability and debugging...', author='Alice Johnson', created_at=datetime.datetime(2024, 9, 13, 9, 45), updated_at=datetime.datetime(2024, 9, 13, 9, 45))]"
      ]
     },
     "execution_count": 44,
     "metadata": {},
     "output_type": "execute_result"
    }
   ],
   "source": [
    "[x for x in example_posts]"
   ]
  },
  {
   "cell_type": "code",
   "execution_count": null,
   "metadata": {},
   "outputs": [],
   "source": [
    "[PostSchema_Response(**post) for post in posts]"
   ]
  },
  {
   "cell_type": "code",
   "execution_count": null,
   "metadata": {},
   "outputs": [],
   "source": []
  },
  {
   "cell_type": "code",
   "execution_count": 45,
   "metadata": {},
   "outputs": [
    {
     "name": "stdout",
     "output_type": "stream",
     "text": [
      "15\n"
     ]
    }
   ],
   "source": [
    "from typing import List\n",
    "\n",
    "def sum_of_list(numbers: List[int]) -> int:\n",
    "    return sum(numbers)\n",
    "\n",
    "numbers = [1, 2, 3, 4, 5]\n",
    "result = sum_of_list(numbers)\n",
    "print(result)  # Output: 15"
   ]
  },
  {
   "cell_type": "code",
   "execution_count": 46,
   "metadata": {},
   "outputs": [
    {
     "name": "stdout",
     "output_type": "stream",
     "text": [
      "Item: 1, Item: apple, Item: 3, Item: banana\n"
     ]
    }
   ],
   "source": [
    "from typing import List, Union\n",
    "\n",
    "def describe_list(items: List[Union[int, str]]) -> str:\n",
    "    descriptions = [f\"Item: {item}\" for item in items]\n",
    "    return ', '.join(descriptions)\n",
    "\n",
    "mixed_list = [1, \"apple\", 3, \"banana\"]\n",
    "description = describe_list(mixed_list)\n",
    "print(description)  # Output: Item: 1, Item: apple, Item: 3, Item: banana"
   ]
  },
  {
   "cell_type": "markdown",
   "metadata": {},
   "source": [
    "### PUT with csv"
   ]
  },
  {
   "cell_type": "code",
   "execution_count": 13,
   "metadata": {},
   "outputs": [
    {
     "name": "stdout",
     "output_type": "stream",
     "text": [
      "<csv.DictReader object at 0x000001B554622390>\n",
      "{'id': '1', 'title': 'string', 'content': 'string'}\n",
      "{'id': '2', 'title': 'wwwwwwwwwwwww', 'content': 'wwwwwwwwwwwwwwwwwwwwwww'}\n",
      "[{'id': 1, 'title': 'string', 'content': 'string'}, {'id': 2, 'title': 'wwwwwwwwwwwww', 'content': 'wwwwwwwwwwwwwwwwwwwwwww'}]\n"
     ]
    }
   ],
   "source": [
    "import csv\n",
    "\n",
    "posts = []\n",
    "try:\n",
    "    with open(\"posts.csv\", mode='r', newline='') as file:\n",
    "        reader = csv.DictReader(file)\n",
    "        print(reader)\n",
    "        for row in reader:\n",
    "            print(row)\n",
    "            posts.append({\n",
    "                \"id\": int(row[\"id\"]),\n",
    "                \"title\": row[\"title\"],\n",
    "                \"content\": row[\"content\"]\n",
    "                })\n",
    "        print(posts)\n",
    "except:\n",
    "    print('dsd')"
   ]
  },
  {
   "cell_type": "code",
   "execution_count": 14,
   "metadata": {},
   "outputs": [],
   "source": [
    "def read_csv():\n",
    "    posts = []\n",
    "    try:\n",
    "        with open(r\"C:\\Users\\PC\\Desktop\\python\\2_fast_api_db\\posts.csv\", mode='r', newline='') as file:\n",
    "            reader = csv.DictReader(file)\n",
    "            for row in reader:\n",
    "                posts.append({\n",
    "                    \"id\": int(row[\"id\"]),\n",
    "                    \"title\": row[\"title\"],\n",
    "                    \"content\": row[\"content\"]\n",
    "                })\n",
    "    except FileNotFoundError:\n",
    "        # File doesn't exist yet, return empty list\n",
    "        return []\n",
    "    return print(posts)"
   ]
  },
  {
   "cell_type": "code",
   "execution_count": null,
   "metadata": {},
   "outputs": [],
   "source": [
    "def write_csv(posts: List[dict]):\n",
    "    with open(CSV_FILE_PATH, mode='w', newline='') as file:\n",
    "        writer = csv.DictWriter(file, fieldnames=[\"id\", \"title\", \"content\"])\n",
    "        writer.writeheader()\n",
    "        writer.writerows(posts)"
   ]
  },
  {
   "cell_type": "code",
   "execution_count": null,
   "metadata": {},
   "outputs": [],
   "source": [
    "@app.put(\"/posts/{post_id}\", response_model=PostSchema_Response)\n",
    "def update_post(post_id: int, updated_post: PostSchema):\n",
    "    posts = read_csv()\n",
    "    for post in posts:\n",
    "        if post[\"id\"] == post_id:\n",
    "            post[\"title\"] = updated_post.title\n",
    "            post[\"content\"] = updated_post.content\n",
    "            write_csv(posts)\n",
    "            return PostSchema_Response(**post)\n",
    "    raise HTTPException(status_code=404, detail=\"Post not found\")"
   ]
  },
  {
   "cell_type": "code",
   "execution_count": null,
   "metadata": {},
   "outputs": [],
   "source": [
    "def update_post(post_id: int, updated_post: PostSchema):\n",
    "    posts = read_csv()\n",
    "    for post in posts:\n",
    "        if post[\"id\"] == post_id:\n",
    "            post[\"title\"] = updated_post.title\n",
    "            post[\"content\"] = updated_post.content\n",
    "            write_csv(posts)\n",
    "            return PostSchema_Response(**post)\n",
    "    raise HTTPException(status_code=404, detail=\"Post not found\")"
   ]
  },
  {
   "cell_type": "code",
   "execution_count": 7,
   "metadata": {},
   "outputs": [
    {
     "name": "stdout",
     "output_type": "stream",
     "text": [
      "id=1 title='string' content='string'\n",
      "<class '__main__.PostSchema_Response'>\n",
      "id=2 title='wwwwwwwwwwwww' content='wwwwwwwwwwwwwwwwwwwwwww'\n",
      "<class '__main__.PostSchema_Response'>\n"
     ]
    }
   ],
   "source": [
    "# Define the schema\n",
    "from pydantic import BaseModel\n",
    "\n",
    "class PostSchema_Response(BaseModel):\n",
    "    id: int\n",
    "    title: str\n",
    "    content: str\n",
    "\n",
    "# Sample posts data\n",
    "posts = [{'id': 1, 'title': 'string', 'content': 'string'},\n",
    "         {'id': 2, 'title': 'wwwwwwwwwwwww', 'content': 'wwwwwwwwwwwwwwwwwwwwwww'}]\n",
    "\n",
    "# Create PostSchema_Response instances and print them\n",
    "for post in posts:\n",
    "    post_instance = PostSchema_Response(**post)\n",
    "    print(post_instance)\n",
    "    print(type(post_instance))\n"
   ]
  },
  {
   "cell_type": "code",
   "execution_count": 2,
   "metadata": {},
   "outputs": [
    {
     "data": {
      "text/plain": [
       "2"
      ]
     },
     "execution_count": 2,
     "metadata": {},
     "output_type": "execute_result"
    }
   ],
   "source": [
    "data = [\n",
    "  {\n",
    "    \"id\": 1,\n",
    "    \"title\": \"string\",\n",
    "    \"content\": \"string\"\n",
    "  },\n",
    "  {\n",
    "    \"id\": 2,\n",
    "    \"title\": \"wwwwwwwwwwwww\",\n",
    "    \"content\": \"wwwwwwwwwwwwwwwwwwwwwww\"\n",
    "  }\n",
    "]\n",
    "\n",
    "len(data)"
   ]
  },
  {
   "cell_type": "code",
   "execution_count": 6,
   "metadata": {},
   "outputs": [
    {
     "data": {
      "text/plain": [
       "[{'id': 1, 'title': 'string', 'content': 'string'}]"
      ]
     },
     "execution_count": 6,
     "metadata": {},
     "output_type": "execute_result"
    }
   ],
   "source": [
    "data[:1]"
   ]
  },
  {
   "cell_type": "code",
   "execution_count": null,
   "metadata": {},
   "outputs": [],
   "source": [
    "#def get_items(limit: int = Query(10, le=100)):\n",
    "\"\"\"\n",
    "Returns a list of numbers up to the specified limit.\n",
    "\n",
    "- **limit**: The maximum number of items to return. Defaults to 10, and is capped at 100.\n",
    "\"\"\"\n",
    "# Limit the number of items returned\n",
    "#limited_data = data[:limit]\n",
    "#return {\"items\": limited_data, \"limit\": limit"
   ]
  }
 ],
 "metadata": {
  "kernelspec": {
   "display_name": "ngrok_3_11",
   "language": "python",
   "name": "python3"
  },
  "language_info": {
   "codemirror_mode": {
    "name": "ipython",
    "version": 3
   },
   "file_extension": ".py",
   "mimetype": "text/x-python",
   "name": "python",
   "nbconvert_exporter": "python",
   "pygments_lexer": "ipython3",
   "version": "3.11.9"
  }
 },
 "nbformat": 4,
 "nbformat_minor": 2
}
