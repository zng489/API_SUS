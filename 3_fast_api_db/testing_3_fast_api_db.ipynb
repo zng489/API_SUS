{
 "cells": [
  {
   "cell_type": "code",
   "execution_count": 3,
   "metadata": {},
   "outputs": [
    {
     "name": "stderr",
     "output_type": "stream",
     "text": [
      "C:\\Users\\PC\\AppData\\Local\\Temp\\ipykernel_32324\\283767279.py:4: MovedIn20Warning: The ``declarative_base()`` function is now available as sqlalchemy.orm.declarative_base(). (deprecated since: 2.0) (Background on SQLAlchemy 2.0 at: https://sqlalche.me/e/b8d9)\n",
      "  Base = declarative_base()\n"
     ]
    }
   ],
   "source": [
    "from sqlalchemy import Column, Integer, String\n",
    "from sqlalchemy.ext.declarative import declarative_base\n",
    "\n",
    "Base = declarative_base()\n",
    "\n",
    "class User(Base):\n",
    "    __tablename__ = 'users'\n",
    "\n",
    "    id = Column(Integer, primary_key=True, index=True)\n",
    "    name = Column(String, index=True)\n",
    "    email = Column(String, unique=True, index=True)"
   ]
  },
  {
   "cell_type": "code",
   "execution_count": 4,
   "metadata": {},
   "outputs": [],
   "source": [
    "from sqlalchemy import create_engine\n",
    "DATABASE_URL = \"sqlite:///./test.db\"\n",
    "engine = create_engine(DATABASE_URL)\n",
    "Base.metadata.create_all(bind=engine)"
   ]
  },
  {
   "cell_type": "code",
   "execution_count": 5,
   "metadata": {},
   "outputs": [],
   "source": [
    "from sqlalchemy.orm import sessionmaker\n",
    "\n",
    "SessionLocal = sessionmaker(autocommit=False, autoflush=False, bind=engine)\n",
    "\n",
    "def get_db():\n",
    "    db = SessionLocal()\n",
    "    try:\n",
    "        yield db\n",
    "    finally:\n",
    "        db.close()\n",
    "\n",
    "# Example function to add a new user\n",
    "def create_user(db_session, name: str, email: str):\n",
    "    new_user = User(name=name, email=email)\n",
    "    db_session.add(new_user)\n",
    "    db_session.commit()\n",
    "    db_session.refresh(new_user)\n",
    "    return new_user\n",
    "\n",
    "# Example function to get a user by ID\n",
    "def get_user(db_session, user_id: int):\n",
    "    return db_session.query(User).filter(User.id == user_id).first()\n"
   ]
  },
  {
   "cell_type": "code",
   "execution_count": 6,
   "metadata": {},
   "outputs": [
    {
     "name": "stdout",
     "output_type": "stream",
     "text": [
      "Added user with ID: 1\n",
      "User found: Alice with email alice@example.com\n"
     ]
    }
   ],
   "source": [
    "from sqlalchemy.orm import Session\n",
    "\n",
    "# Example usage\n",
    "with SessionLocal() as db:\n",
    "    # Add a new user\n",
    "    new_user = create_user(db, name=\"Alice\", email=\"alice@example.com\")\n",
    "    print(f\"Added user with ID: {new_user.id}\")\n",
    "\n",
    "    # Get a user by ID\n",
    "    user = get_user(db, user_id=new_user.id)\n",
    "    print(f\"User found: {user.name} with email {user.email}\")\n"
   ]
  },
  {
   "cell_type": "code",
   "execution_count": null,
   "metadata": {},
   "outputs": [],
   "source": []
  },
  {
   "cell_type": "code",
   "execution_count": 15,
   "metadata": {},
   "outputs": [
    {
     "name": "stdout",
     "output_type": "stream",
     "text": [
      "Added user with ID: 2\n",
      "User found: Alice with username alice@example.com\n"
     ]
    },
    {
     "name": "stderr",
     "output_type": "stream",
     "text": [
      "C:\\Users\\PC\\AppData\\Local\\Temp\\ipykernel_27272\\1241613940.py:4: MovedIn20Warning: The ``declarative_base()`` function is now available as sqlalchemy.orm.declarative_base(). (deprecated since: 2.0) (Background on SQLAlchemy 2.0 at: https://sqlalche.me/e/b8d9)\n",
      "  Base = declarative_base()\n"
     ]
    }
   ],
   "source": [
    "from sqlalchemy import Column, Integer, String\n",
    "from sqlalchemy.ext.declarative import declarative_base\n",
    "\n",
    "Base = declarative_base()\n",
    "\n",
    "class Name_Username(Base):\n",
    "    __tablename__ = 'names'\n",
    "    \n",
    "    id = Column(Integer, primary_key=True, index=True)\n",
    "    name = Column(String, index=True)\n",
    "    username = Column(String, index=True)\n",
    "\n",
    "####################################################################################\n",
    "\n",
    "from sqlalchemy import create_engine\n",
    "DATABASE_URL = \"sqlite:///./a.db\"\n",
    "engine = create_engine(DATABASE_URL)\n",
    "Base.metadata.create_all(bind=engine)\n",
    "\n",
    "#####################################################################################\n",
    "\n",
    "from sqlalchemy.orm import sessionmaker\n",
    "\n",
    "SessionLocal = sessionmaker(autocommit=False, autoflush=False, bind=engine)\n",
    "\n",
    "def get_db():\n",
    "    db = SessionLocal()\n",
    "    try:\n",
    "        yield db\n",
    "    finally:\n",
    "        db.close()\n",
    "\n",
    "# Example function to add a new user\n",
    "def create_user(db_session, name, username):\n",
    "    new_user = Name_Username(name=name, username=username)\n",
    "    db_session.add(new_user)\n",
    "    db_session.commit()\n",
    "    db_session.refresh(new_user)\n",
    "    return new_user\n",
    "\n",
    "# Example function to get a user by ID\n",
    "def get_user(db_session, user_id):\n",
    "    return db_session.query(Name_Username).filter(Name_Username.id == user_id).first()\n",
    "\n",
    "#############################################################################################\n",
    "\n",
    "from sqlalchemy.orm import Session\n",
    "\n",
    "# Example usage\n",
    "with SessionLocal() as db:\n",
    "    # Add a new user\n",
    "    new_user = create_user(db, name=\"Alice\", username=\"alice@example.com\")\n",
    "    print(f\"Added user with ID: {new_user.id}\")\n",
    "\n",
    "    # Get a user by ID\n",
    "    user = get_user(db, user_id=new_user.id)\n",
    "    print(f\"User found: {user.name} with username {user.username}\")"
   ]
  },
  {
   "cell_type": "code",
   "execution_count": 16,
   "metadata": {},
   "outputs": [
    {
     "name": "stdout",
     "output_type": "stream",
     "text": [
      "Added user with ID: 3\n",
      "User found: Alice with username alice@example.com\n"
     ]
    }
   ],
   "source": [
    "from sqlalchemy.orm import Session\n",
    "\n",
    "# Example usage\n",
    "\n",
    "# Add a new user\n",
    "new_user = create_user(SessionLocal(), name=\"Alice\", username=\"alice@example.com\")\n",
    "print(f\"Added user with ID: {new_user.id}\")\n",
    "\n",
    "# Get a user by ID\n",
    "user = get_user(SessionLocal(), user_id=new_user.id)\n",
    "print(f\"User found: {user.name} with username {user.username}\")"
   ]
  },
  {
   "cell_type": "code",
   "execution_count": 21,
   "metadata": {},
   "outputs": [],
   "source": [
    "new_user = Name_Username(name=\"Alice\", username=\"alice@example.com\")\n",
    "SessionLocal().add(new_user)"
   ]
  },
  {
   "cell_type": "code",
   "execution_count": null,
   "metadata": {},
   "outputs": [],
   "source": [
    "#def get_db():\n",
    "#    db = SessionLocal()\n",
    "#    try:\n",
    "#        yield db\n",
    "#    finally:\n",
    "#        db.close()"
   ]
  },
  {
   "cell_type": "code",
   "execution_count": 5,
   "metadata": {},
   "outputs": [],
   "source": [
    "# This files responsible for signing, encoding, deconding and returning JWTs.\n",
    "\n",
    "import os\n",
    "import time\n",
    "import jwt\n",
    "from decouple import config\n",
    "\n",
    "#JWT_SECRET = config(\"secret\")\n",
    "#JWT_ALGORITHM = config(\"algorithm\")\n",
    "\n",
    "os.environ['secret'] = '5ff270fa2bb7d04e2219de166b6eb498'\n",
    "os.environ['algorithm'] = 'HS256'  # or any other algorithm you are using\n"
   ]
  },
  {
   "cell_type": "code",
   "execution_count": 6,
   "metadata": {},
   "outputs": [
    {
     "name": "stdout",
     "output_type": "stream",
     "text": [
      "your_secret_key_here\n"
     ]
    }
   ],
   "source": [
    "JWT_SECRET = config(\"5ff270fa2bb7d04e2219de166b6eb498\")\n",
    "print(JWT_SECRET)"
   ]
  },
  {
   "cell_type": "code",
   "execution_count": null,
   "metadata": {},
   "outputs": [],
   "source": [
    "JWT_ALGORITHM = config(\"HS256\")\n",
    "print(JWT_ALGORITHM)"
   ]
  },
  {
   "cell_type": "code",
   "execution_count": null,
   "metadata": {},
   "outputs": [],
   "source": [
    "# This files responsible for signing, encoding, deconding and returning JWTs.\n",
    "\n",
    "import time\n",
    "import jwt\n",
    "from decouple import config\n",
    "\n",
    "JWT_SECRET = config(\"secret\")\n",
    "JWT_ALGORITHM = config(\"algorithm\")\n",
    "\n",
    "def decodeJWT(token : str):\n",
    "    try:\n",
    "        decode_token = jwt.decode(token,\n",
    "                                JWT_SECRET,\n",
    "                                algorithm=JWT_ALGORITHM)\n",
    "        return decode_token if decode_token['expires'] >= time.time() else None\n",
    "    except:\n",
    "        return {}\n",
    "\n",
    "# Function returns the generated Tokens (JWTs)\n",
    "def token_response(token : str):\n",
    "    return {\n",
    "        \"acess token\": token\n",
    "    }\n",
    "\n",
    "# Function used for signing the JWT string\n",
    "def signJWT(userID : str):\n",
    "    payload = {\n",
    "        \"userID\" : userID,\n",
    "        \"expires\" : time.time() + 600\n",
    "    }\n",
    "    token = jwt.encode(payload,\n",
    "                       JWT_SECRET,\n",
    "                       algorithm=JWT_ALGORITHM)\n",
    "    return token_response(token)\n",
    "\n",
    "\n",
    "if __name__ == \"__main__\":\n",
    "    token_response('asdasdasda')"
   ]
  },
  {
   "cell_type": "code",
   "execution_count": null,
   "metadata": {},
   "outputs": [],
   "source": [
    "# This files responsible for signing, encoding, deconding and returning JWTs.\n",
    "\n",
    "import time\n",
    "import jwt\n",
    "from decouple import config\n",
    "\n",
    "JWT_SECRET = config(\"secret\")\n",
    "JWT_ALGORITHM = config(\"algorithm\")\n",
    "\n",
    "# Function returns the generated Tokens (JWTs)\n",
    "def token_response(token : str):\n",
    "    return {\n",
    "        \"acess token\": token\n",
    "    }\n",
    "\n",
    "# Function used for signing the JWT string\n",
    "def signJWT(userID : str):\n",
    "    payload = {\n",
    "        \"userID\" : userID,\n",
    "        \"expires\" : time.time() + 600\n",
    "    }\n",
    "    token = jwt.encode(payload,\n",
    "                       JWT_SECRET,\n",
    "                       algorithm=JWT_ALGORITHM)\n",
    "    return token_response(token)\n",
    "\n",
    "\n",
    "def decodeJWT(token : str):\n",
    "    try:\n",
    "        decode_token = jwt.decode(token,\n",
    "                                JWT_SECRET,\n",
    "                                algorithm=JWT_ALGORITHM)\n",
    "        return decode_token if decode_token['expires'] >= time.time() else None\n",
    "    except:\n",
    "        return {}"
   ]
  },
  {
   "cell_type": "code",
   "execution_count": null,
   "metadata": {},
   "outputs": [],
   "source": []
  }
 ],
 "metadata": {
  "kernelspec": {
   "display_name": "ngrok_3_11",
   "language": "python",
   "name": "python3"
  },
  "language_info": {
   "codemirror_mode": {
    "name": "ipython",
    "version": 3
   },
   "file_extension": ".py",
   "mimetype": "text/x-python",
   "name": "python",
   "nbconvert_exporter": "python",
   "pygments_lexer": "ipython3",
   "version": "3.11.9"
  }
 },
 "nbformat": 4,
 "nbformat_minor": 2
}
