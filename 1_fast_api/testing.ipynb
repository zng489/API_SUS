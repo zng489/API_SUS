{
 "cells": [
  {
   "cell_type": "code",
   "execution_count": 1,
   "metadata": {},
   "outputs": [
    {
     "name": "stderr",
     "output_type": "stream",
     "text": [
      "c:\\Users\\PC\\miniconda3\\envs\\ngrok_3_11\\Lib\\site-packages\\pydantic\\_internal\\_config.py:341: UserWarning: Valid config keys have changed in V2:\n",
      "* 'schema_extra' has been renamed to 'json_schema_extra'\n",
      "  warnings.warn(message, UserWarning)\n"
     ]
    }
   ],
   "source": [
    "from pydantic import BaseModel, Field, EmailStr\n",
    "\n",
    "class PostSchema(BaseModel):\n",
    "    id : int = Field(default=None)\n",
    "    title : str = Field(default=None)\n",
    "    content : str = Field(default=None)\n",
    "    class Config:\n",
    "        schema_extra = {\n",
    "            \"post_demo\" : {\n",
    "                \"title\":\"some title about animals\",\n",
    "                \"content\":\"some content about animals\",\n",
    "            }\n",
    "        }\n",
    "\n",
    "\n",
    "class UserSchema(BaseModel):\n",
    "    fullname : str = Field(default=None)\n",
    "    email : EmailStr = Field(default = None)\n",
    "    password : str = Field(default = None)\n",
    "    class Config:\n",
    "        the_schema = {\n",
    "            \"user_demo\" : {\n",
    "                \"name\" : \"Bek\",\n",
    "                \"email\" : \"help@bekbrace.com\",\n",
    "                \"password\" : \"123\"\n",
    "            }\n",
    "        }\n",
    "\n",
    "\n",
    "class UserLoginSchema(BaseModel):\n",
    "    email : EmailStr = Field(default = None)\n",
    "    password : str = Field(default = None)\n",
    "    class Config:\n",
    "        the_schema = {\n",
    "            \"user_demo\" : {\n",
    "                \"email\" : \"help@bekbrace.com\",\n",
    "                \"password\" : \"123\"\n",
    "            }\n",
    "        }"
   ]
  },
  {
   "cell_type": "code",
   "execution_count": 14,
   "metadata": {},
   "outputs": [
    {
     "name": "stdout",
     "output_type": "stream",
     "text": [
      "user1@example.com\n",
      "password1\n"
     ]
    }
   ],
   "source": [
    "# Example list of users\n",
    "users = [\n",
    "    {\"email\": \"user1@example.com\", \"password\": \"password1\"},\n",
    "    {\"email\": \"user2@example.com\", \"password\": \"password2\"}\n",
    "]\n",
    "\n",
    "# Example login data\n",
    "data = UserLoginSchema(email=\"user1@example.com\", password=\"password1\")\n",
    "print(data.email)\n",
    "print(data.password)"
   ]
  },
  {
   "cell_type": "code",
   "execution_count": 18,
   "metadata": {},
   "outputs": [
    {
     "name": "stdout",
     "output_type": "stream",
     "text": [
      "user1@example.com\n",
      "password1\n",
      "user2@example.com\n",
      "password2\n"
     ]
    }
   ],
   "source": [
    "# Example list of users\n",
    "users = [\n",
    "    {\"email\": \"user1@example.com\", \"password\": \"password1\"},\n",
    "    {\"email\": \"user2@example.com\", \"password\": \"password2\"}\n",
    "]\n",
    "\n",
    "for user in users:\n",
    "    print(user[\"email\"])\n",
    "    print(user[\"password\"])"
   ]
  },
  {
   "cell_type": "code",
   "execution_count": null,
   "metadata": {},
   "outputs": [],
   "source": [
    "def check_user(data: UserLoginSchema):\n",
    "    for user in users:\n",
    "        if user.email == data.email and user.password == data.password:\n",
    "            return True\n",
    "        return False"
   ]
  },
  {
   "cell_type": "code",
   "execution_count": 19,
   "metadata": {},
   "outputs": [],
   "source": [
    "###############################################################################################"
   ]
  },
  {
   "cell_type": "code",
   "execution_count": null,
   "metadata": {},
   "outputs": [],
   "source": [
    "class UserSchema(BaseModel):\n",
    "    fullname : str = Field(default=None)\n",
    "    email : EmailStr = Field(default = None)\n",
    "    password : str = Field(default = None)\n",
    "    class Config:\n",
    "        #the_schema \n",
    "        json_schema_extra = {\n",
    "            \"user_demo\" : {\n",
    "                \"name\" : \"Bek\",\n",
    "                \"email\" : \"help@bekbrace.com\",\n",
    "            }\n",
    "        }\n",
    "\n",
    "UserSchema => {\n",
    "    fullname = string,\n",
    "    email = string,\n",
    "    password = string\n",
    "}\n",
    "\n",
    "@app.post(\"/user/signup\", tags=[\"user\"])\n",
    "def user_signup(user : UserSchema = Body(default=None)):\n",
    "    users.append(user)\n",
    "    return signJWT(user.email)\n",
    "\n",
    "\n",
    "user => {\n",
    "    fullname = string,\n",
    "    email = string,\n",
    "    password = string\n",
    "}"
   ]
  },
  {
   "cell_type": "code",
   "execution_count": 20,
   "metadata": {},
   "outputs": [],
   "source": [
    "#################################################################################################"
   ]
  },
  {
   "cell_type": "code",
   "execution_count": 22,
   "metadata": {},
   "outputs": [
    {
     "name": "stdout",
     "output_type": "stream",
     "text": [
      "User added: UserSchema(email=user1@example.com, password=******)\n",
      "User added: UserSchema(email=user2@example.com, password=******)\n",
      "All users:\n",
      "UserSchema(email=user1@example.com, password=******)\n",
      "UserSchema(email=user2@example.com, password=******)\n",
      "[UserSchema(email=user1@example.com, password=******), UserSchema(email=user2@example.com, password=******)]\n"
     ]
    }
   ],
   "source": [
    "class UserSchema:\n",
    "    def __init__(self, email: str, password: str):\n",
    "        self.email = email\n",
    "        self.password = password\n",
    "\n",
    "    def __repr__(self):\n",
    "        return f\"UserSchema(email={self.email}, password=******)\"  # Mask password for security\n",
    "\n",
    "# In-memory list to store users\n",
    "users = []\n",
    "\n",
    "def add_user(email: str, password: str):\n",
    "    # Create a UserSchema instance\n",
    "    user = UserSchema(email, password)\n",
    "    # Add user to the in-memory list\n",
    "    users.append(user)\n",
    "    print(f\"User added: {user}\")\n",
    "\n",
    "# Example usage\n",
    "add_user(\"user1@example.com\", \"password123\")\n",
    "add_user(\"user2@example.com\", \"securepass456\")\n",
    "\n",
    "# Print all users\n",
    "print(\"All users:\")\n",
    "for user in users:\n",
    "    print(user)\n",
    "\n",
    "print(users)\n"
   ]
  },
  {
   "cell_type": "code",
   "execution_count": null,
   "metadata": {},
   "outputs": [],
   "source": []
  }
 ],
 "metadata": {
  "kernelspec": {
   "display_name": "ngrok_3_11",
   "language": "python",
   "name": "python3"
  },
  "language_info": {
   "codemirror_mode": {
    "name": "ipython",
    "version": 3
   },
   "file_extension": ".py",
   "mimetype": "text/x-python",
   "name": "python",
   "nbconvert_exporter": "python",
   "pygments_lexer": "ipython3",
   "version": "3.11.9"
  }
 },
 "nbformat": 4,
 "nbformat_minor": 2
}
